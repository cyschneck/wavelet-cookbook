{
 "cells": [
  {
   "cell_type": "markdown",
   "metadata": {},
   "source": [
    "<p align=\"center\">\n",
    "  <img src=\"https://upload.wikimedia.org/wikipedia/commons/7/74/Animation_for_a_deep_water_wave.gif\" alt=\"Animation for a deep water wave\" />\n",
    "</p>"
   ]
  },
  {
   "cell_type": "markdown",
   "metadata": {},
   "source": [
    "# Wave Height from Station 44013"
   ]
  },
  {
   "cell_type": "markdown",
   "metadata": {},
   "source": [
    "---"
   ]
  },
  {
   "cell_type": "markdown",
   "metadata": {},
   "source": [
    "## Overview\n",
    "Generating a wavelet power spectrum from the time-series data [from wave heights from station 44013 East of Boston](https://www.ndbc.noaa.gov/station_history.php?station=44013)\n",
    "1. Prerequisties\n",
    "2. Background\n",
    "3. Download and Organize Buoy Data\n",
    "4. Wavelet Input Values\n",
    "5. PyWavelets\n",
    "6. Power Spectrum"
   ]
  },
  {
   "cell_type": "markdown",
   "metadata": {},
   "source": [
    "## Prerequisites\n",
    "| Concepts | Importance | Notes |\n",
    "| --- | --- | --- |\n",
    "| [Intro to Matplotlib](https://foundations.projectpythia.org/core/matplotlib/matplotlib-basics.html) | Necessary | Used to plot data |\n",
    "| [Intro to Pandas](https://foundations.projectpythia.org/core/pandas/pandas.html) | Necessary | Used to read in and organize data (in particular dataframes) |\n",
    "| [Intro to Numpy](https://foundations.projectpythia.org/core/numpy/numpy-basics.html)| Necessary | Used to work with large arrays |\n",
    "\n",
    "- **Time to learn**: 35 minutes"
   ]
  },
  {
   "cell_type": "markdown",
   "metadata": {},
   "source": [
    "---"
   ]
  },
  {
   "cell_type": "markdown",
   "metadata": {},
   "source": [
    "## Background\n",
    "\n",
    "TODO\n",
    "\n",
    "### Wavelets and Wave Height Data\n",
    "\n",
    "TODO"
   ]
  },
  {
   "cell_type": "markdown",
   "metadata": {},
   "source": [
    "## Imports"
   ]
  },
  {
   "cell_type": "code",
   "execution_count": 17,
   "metadata": {},
   "outputs": [],
   "source": [
    "import numpy as np                          # working with arrays\n",
    "import pandas as pd                         # working with dataframes\n",
    "import matplotlib.pyplot as plt             # plot data\n",
    "import datetime                             # converting strings to datetime objects\n",
    "import requests                             # retrieve data from text on a website\n",
    "import datetime\n",
    "\n",
    "import pywt                                 # PyWavelets"
   ]
  },
  {
   "cell_type": "markdown",
   "metadata": {},
   "source": [
    "## Access Buoy Data"
   ]
  },
  {
   "cell_type": "markdown",
   "metadata": {},
   "source": [
    "We will be downloading the buoy data data from NOAA National Data Buoy Center with contains information about the buoy\n",
    "\n",
    "The only columns we need to keep are related to datetimes (`YY`, `MM`, `DD`, `hh`) and wave height (`WVHT`)"
   ]
  },
  {
   "cell_type": "code",
   "execution_count": 18,
   "metadata": {},
   "outputs": [],
   "source": [
    "years = [2001, 2002]\n",
    "date_times = np.array([])\n",
    "wave_height = np.array([])\n",
    "for i, year in enumerate(years):\n",
    "    data_link = f\"https://www.ndbc.noaa.gov/view_text_file.php?filename=41001h{year}.txt.gz&dir=data/historical/stdmet/\"\n",
    "    data_req = requests.get(data_link)\n",
    "    data_txt = data_req.text\n",
    "    data = np.genfromtxt(data_txt.splitlines(), comments=None, dtype='str')\n",
    "    datetime_index = np.where(data[0] == \"hh\")[0][0]\n",
    "    wave_height_index = np.where(data[0] == \"WVHT\")[0][0]\n",
    "    \n",
    "    # colelct date data from full datset\n",
    "    date_time = data[:,:datetime_index+1][1:]\n",
    "    data_wave_height = data[:,wave_height_index][1:] # skip first header row\n",
    "    data_wave_height = data_wave_height.astype(float)\n",
    "\n",
    "    if i == 0:\n",
    "        date_times = date_time\n",
    "        wave_height = data_wave_height\n",
    "    else:\n",
    "        date_times = np.concatenate([date_times, date_time])\n",
    "        wave_height = np.concatenate([wave_height, data_wave_height])"
   ]
  },
  {
   "cell_type": "markdown",
   "metadata": {},
   "source": [
    "## Clean Up Wave Height data\n",
    "\n",
    "Buoy stores null data as 99.00, so we will replace 99.00 with nan"
   ]
  },
  {
   "cell_type": "code",
   "execution_count": 19,
   "metadata": {},
   "outputs": [
    {
     "name": "stdout",
     "output_type": "stream",
     "text": [
      "99.0\n",
      "9.38\n"
     ]
    }
   ],
   "source": [
    "print(max(wave_height))\n",
    "wave_height = np.where(wave_height == 99.00, np.nan, wave_height)\n",
    "print(max(wave_height))"
   ]
  },
  {
   "cell_type": "markdown",
   "metadata": {},
   "source": [
    "## Convert Time to Datetimes\n",
    "\n",
    "Buoy stores datetime information as seperate columns of data, let's convert this into a datetime object"
   ]
  },
  {
   "cell_type": "code",
   "execution_count": 20,
   "metadata": {},
   "outputs": [
    {
     "name": "stdout",
     "output_type": "stream",
     "text": [
      "First Date = 2001-01-01 00:00:00\n",
      "Last Date = 2002-12-17 20:00:00\n"
     ]
    }
   ],
   "source": [
    "# YYYY MM DD HH\n",
    "dates = []\n",
    "for date in date_times:\n",
    "    date_string = \"\".join(date)\n",
    "    dates.append(datetime.datetime.strptime(date_string, \"%Y%m%d%H\"))\n",
    "dates = np.array(dates)\n",
    "print(f\"First Date = {dates[0]}\")\n",
    "print(f\"Last Date = {dates[-1]}\")"
   ]
  },
  {
   "cell_type": "markdown",
   "metadata": {},
   "source": [
    "## Plot and View Data\n",
    "\n",
    "Let's give the data a look!"
   ]
  },
  {
   "cell_type": "code",
   "execution_count": null,
   "metadata": {},
   "outputs": [],
   "source": [
    "fig, ax = plt.subplots(figsize=(6, 6))\n",
    "plt.title(\"Wave Height on Station 41001\")\n",
    "plt.xlabel(\"Date\")\n",
    "plt.xticks(rotation=90)\n",
    "plt.ylabel(\"Wave Height (meters)\")\n",
    "plt.plot(dates, wave_height)\n",
    "plt.show()"
   ]
  },
  {
   "cell_type": "markdown",
   "metadata": {},
   "source": [
    "## Wavelet Input Values"
   ]
  },
  {
   "cell_type": "markdown",
   "metadata": {},
   "source": [
    "Wavelet inputs include:\n",
    "\n",
    "- x: Input time-series data (for example, the time and wave height of data)\n",
    "- wavelet: mother wavelet name\n",
    "- dt: sampling period (time between each y-value)\n",
    "- s0: smallest scale\n",
    "- dj: spacing between each discrete scales\n",
    "- jtot: largest scale"
   ]
  },
  {
   "cell_type": "code",
   "execution_count": null,
   "metadata": {},
   "outputs": [],
   "source": [
    "dt = 0.25  # sampling period (time between each y-value)\n",
    "s0 = 0.25  # smallest scale\n",
    "dj = 0.25  # spacing between each discrete scales\n",
    "jtot = 64  # largest scale"
   ]
  },
  {
   "cell_type": "markdown",
   "metadata": {},
   "source": [
    "**For this example, we will be using a complex Morlet with a bandwidth of 1.5 and a center frequency of 1**"
   ]
  },
  {
   "cell_type": "code",
   "execution_count": null,
   "metadata": {},
   "outputs": [],
   "source": [
    "bandwidth = 1.5\n",
    "center_freq = 1\n",
    "wavelet_mother = f\"cmor{bandwidth}-{center_freq}\"\n",
    "print(wavelet_mother)"
   ]
  },
  {
   "cell_type": "markdown",
   "metadata": {},
   "source": [
    "## Applying Wavelets"
   ]
  },
  {
   "cell_type": "markdown",
   "metadata": {},
   "source": [
    "Filter out nan values"
   ]
  },
  {
   "cell_type": "code",
   "execution_count": null,
   "metadata": {},
   "outputs": [],
   "source": [
    "lm_len = np.arange(len(wave_height))\n",
    "mask = np.isfinite(wave_height)\n",
    "xfiltered = np.interp(lm_len, lm_len[mask], wave_height[mask])"
   ]
  },
  {
   "cell_type": "code",
   "execution_count": null,
   "metadata": {},
   "outputs": [],
   "source": [
    "scales = np.arange(1, jtot + 1, dj)\n",
    "wavelet_coeffs, freqs = pywt.cwt(\n",
    "    data=xfiltered, scales=scales, wavelet=wavelet_mother, sampling_period=dt\n",
    ")\n",
    "\n",
    "f = pywt.scale2frequency(wavelet_mother, scales)/dt\n",
    "#print(f)"
   ]
  },
  {
   "cell_type": "markdown",
   "metadata": {},
   "source": [
    "## Power Spectrum\n",
    "The power spectrum is the real component of the wavelet coefficients. We can find this value by squaring the absolute value of the `wavelet_coeffs` to return the magnitude of the real component to make a better graph."
   ]
  },
  {
   "cell_type": "code",
   "execution_count": null,
   "metadata": {},
   "outputs": [],
   "source": [
    "power = np.power((abs(wavelet_coeffs)), 2)"
   ]
  },
  {
   "cell_type": "code",
   "execution_count": null,
   "metadata": {},
   "outputs": [],
   "source": [
    "fig, ax = plt.subplots(figsize=(6, 6))\n",
    "\n",
    "# Plot Scalogram\n",
    "plt.imshow(\n",
    "    power, vmax=(power).max(), vmin=(power).min(), aspect=\"auto\"\n",
    ")\n",
    "\n",
    "plt.title(\"Wave Height at Station 44013\")\n",
    "plt.xlabel(\"Date\")\n",
    "plt.ylabel(\"Scale\")\n",
    "#ax.set_xlim([dates[0], dates[-1]])\n",
    "plt.colorbar()\n",
    "plt.show()"
   ]
  },
  {
   "cell_type": "markdown",
   "metadata": {},
   "source": [
    "The power spectrum above demonstrates a strong peak (in yellow) at  ...[TODO]"
   ]
  },
  {
   "cell_type": "markdown",
   "metadata": {},
   "source": [
    "---"
   ]
  },
  {
   "cell_type": "markdown",
   "metadata": {},
   "source": [
    "## Summary\n",
    "TODO\n",
    "\n",
    "### What's next?\n",
    "\n",
    "- [Learn how more about PyWavelets](https://pywavelets.readthedocs.io/en/latest/regression/index.html)\n"
   ]
  },
  {
   "cell_type": "markdown",
   "metadata": {},
   "source": [
    "## Resources and references\n",
    "\n",
    "- [\"A Practical Guide to Wavelet Analysis\" (Torrence and Compo, 1998)](https://psl.noaa.gov/people/gilbert.p.compo/Torrence_compo1998.pdf)"
   ]
  }
 ],
 "metadata": {
  "kernelspec": {
   "display_name": "Python 3 (ipykernel)",
   "language": "python",
   "name": "python3"
  },
  "language_info": {
   "codemirror_mode": {
    "name": "ipython",
    "version": 3
   },
   "file_extension": ".py",
   "mimetype": "text/x-python",
   "name": "python",
   "nbconvert_exporter": "python",
   "pygments_lexer": "ipython3",
   "version": "3.13.2"
  },
  "nbdime-conflicts": {
   "local_diff": [
    {
     "diff": [
      {
       "diff": [
        {
         "key": 0,
         "op": "addrange",
         "valuelist": [
          "Python 3"
         ]
        },
        {
         "key": 0,
         "length": 1,
         "op": "removerange"
        }
       ],
       "key": "display_name",
       "op": "patch"
      }
     ],
     "key": "kernelspec",
     "op": "patch"
    }
   ],
   "remote_diff": [
    {
     "diff": [
      {
       "diff": [
        {
         "key": 0,
         "op": "addrange",
         "valuelist": [
          "Python3"
         ]
        },
        {
         "key": 0,
         "length": 1,
         "op": "removerange"
        }
       ],
       "key": "display_name",
       "op": "patch"
      }
     ],
     "key": "kernelspec",
     "op": "patch"
    }
   ]
  },
  "toc-autonumbering": false
 },
 "nbformat": 4,
 "nbformat_minor": 4
}
