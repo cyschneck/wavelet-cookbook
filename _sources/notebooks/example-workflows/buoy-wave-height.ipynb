{
 "cells": [
  {
   "cell_type": "markdown",
   "metadata": {},
   "source": [
    "<p align=\"center\">\n",
    "  <img src=\"https://upload.wikimedia.org/wikipedia/commons/7/74/Animation_for_a_deep_water_wave.gif\" alt=\"Animation for a deep water wave\" />\n",
    "</p>"
   ]
  },
  {
   "cell_type": "markdown",
   "metadata": {},
   "source": [
    "# Wave Height from Buoy 44013"
   ]
  },
  {
   "cell_type": "markdown",
   "metadata": {},
   "source": [
    "---"
   ]
  },
  {
   "cell_type": "markdown",
   "metadata": {},
   "source": [
    "## Overview\n",
    "Generating a wavelet power spectrum from the time-series data [from wave heights from buoy station 44013](https://www.ndbc.noaa.gov/station_history.php?station=44013) east of Boston\n",
    "1. Prerequisties\n",
    "2. Background\n",
    "3. Download and Organize Buoy Data\n",
    "4. Wavelet Input Values\n",
    "5. PyWavelets\n",
    "6. Power Spectrum"
   ]
  },
  {
   "cell_type": "markdown",
   "metadata": {},
   "source": [
    "## Prerequisites\n",
    "| Concepts | Importance | Notes |\n",
    "| --- | --- | --- |\n",
    "| [Intro to Matplotlib](https://foundations.projectpythia.org/core/matplotlib/matplotlib-basics.html) | Necessary | Used to plot data |\n",
    "| [Intro to Numpy](https://foundations.projectpythia.org/core/numpy/numpy-basics.html)| Necessary | Used to work with large arrays |\n",
    "| [Intro to Datetimes](https://foundations.projectpythia.org/core/datetime.html) | Helpful | Useful to understand strings vs. datetimes |\n",
    "\n",
    "- **Time to learn**: 35 minutes"
   ]
  },
  {
   "cell_type": "markdown",
   "metadata": {},
   "source": [
    "---"
   ]
  },
  {
   "attachments": {},
   "cell_type": "markdown",
   "metadata": {},
   "source": [
    "## Background\n",
    "\n",
    "Buoys float on the surface of water, and while they can serve many purposes, research facilities like NOAA's [National Data Buoy Center](https://www.ndbc.noaa.gov/) provide real-time and historical data about waves and climate on the ocean and within lakes from hundreds of buoys around the world.\n",
    "\n",
    "![buoy-world-map](../images/buoy-world-map.png)\n",
    "\n",
    "Each buoy has been in service for a variety of years and collects different information. [Buoy 44013](https://www.ndbc.noaa.gov/station_page.php?station=44013) is off the coast of Boston in the Massachusetts Bay and reports information about the wind speed and direction, atmospheric pressure, air temperature, dew point, water temperature, and wave height throughout the year.\n",
    "\n",
    "| Location | Buoy |\n",
    "| --- | --- |\n",
    "| ![buoy-station](../images/buoy-station.png) | ![buoy-example](https://www.ndbc.noaa.gov/images/stations/2_1m_ionomer_foam_mini.jpg) |\n",
    "\n",
    "\n",
    "44013 is owned and operated by the National Data Buoy Center and measures a depth of 64.6 meters and has a watch circle radius of 122 yards, with standard meterological data dating back to 1984.\n",
    "\n",
    "Example [Buoy Camera](https://www.ndbc.noaa.gov/buoycams.shtml) Photos from Aril 7, 2025:\n",
    "\n",
    "![buoy-camera](../images/Z03A_2025_04_07_1910.png)\n",
    "\n",
    "For this notebook, we will be investigating the wave height of the buoy across two years in the early 2000's"
   ]
  },
  {
   "cell_type": "markdown",
   "metadata": {},
   "source": [
    "## Imports"
   ]
  },
  {
   "cell_type": "code",
   "execution_count": null,
   "metadata": {},
   "outputs": [],
   "source": [
    "import numpy as np                          # working with arrays\n",
    "import matplotlib.pyplot as plt             # plot data\n",
    "import datetime                             # converting strings to datetime objects\n",
    "import requests                             # retrieve data from text on a website\n",
    "\n",
    "import pywt                                 # PyWavelets"
   ]
  },
  {
   "cell_type": "markdown",
   "metadata": {},
   "source": [
    "## Access Buoy Data"
   ]
  },
  {
   "cell_type": "markdown",
   "metadata": {},
   "source": [
    "First, we will need to download the relevant data we need from NOAA National Data Buoy Center. For this notebook, we will be investigating wave height buoy data from 2001 to 2002.\n",
    "\n",
    "The buoy contains more information than just wave height, so we will need to only save data relevant to the date and time and the wave height. So, the only columns we need to keep are (`YY`, `MM`, `DD`, `hh`) and wave height (`WVHT`)\n",
    "\n",
    "We will iterate through the years and save and concantate the data into a single large array."
   ]
  },
  {
   "cell_type": "code",
   "execution_count": null,
   "metadata": {},
   "outputs": [],
   "source": [
    "years = [2001, 2002]\n",
    "date_times = np.array([])\n",
    "wave_height = np.array([])\n",
    "for i, year in enumerate(years):\n",
    "\n",
    "    # collect data from NOAA Buoy link\n",
    "    data_link = f\"https://www.ndbc.noaa.gov/view_text_file.php?filename=41001h{year}.txt.gz&dir=data/historical/stdmet/\"\n",
    "    data_req = requests.get(data_link)\n",
    "    data_txt = data_req.text\n",
    "    data = np.genfromtxt(data_txt.splitlines(), comments=None, dtype='str')\n",
    "\n",
    "    # Find the index for datetime and wave height information\n",
    "    datetime_index = np.where(data[0] == \"hh\")[0][0]\n",
    "    wave_height_index = np.where(data[0] == \"WVHT\")[0][0]\n",
    "    \n",
    "    # collect data from all rows for the columns of datetime and wave height\n",
    "    # [1:] skips the first row with header information\n",
    "    date_time = data[:,:datetime_index+1][1:]\n",
    "    data_wave_height = data[:,wave_height_index][1:] \n",
    "\n",
    "    # Converts the string data collected from the source to a float\n",
    "    data_wave_height = data_wave_height.astype(float)\n",
    "\n",
    "    # Concatenate all data into a single array\n",
    "    if i == 0:\n",
    "        date_times = date_time\n",
    "        wave_height = data_wave_height\n",
    "    else:\n",
    "        date_times = np.concatenate([date_times, date_time])\n",
    "        wave_height = np.concatenate([wave_height, data_wave_height])"
   ]
  },
  {
   "cell_type": "markdown",
   "metadata": {},
   "source": [
    "## Clean Up Wave Height data\n",
    "\n",
    "Buoy stores null data as 99.00, so we will replace 99.00 with nan"
   ]
  },
  {
   "cell_type": "code",
   "execution_count": null,
   "metadata": {},
   "outputs": [],
   "source": [
    "print(f\"Max wave height before applying nan = {max(wave_height)} m\")\n",
    "wave_height = np.where(wave_height == 99.00, np.nan, wave_height)\n",
    "print(f\"Max wave height after applying nan  = {max(wave_height)} m\")"
   ]
  },
  {
   "cell_type": "markdown",
   "metadata": {},
   "source": [
    "## Convert Time to Datetimes\n",
    "\n",
    "Buoy stores datetime information as separate columns of data with `YYYY` `MM` `DD` and `HH`. For Python to recognize these strings as a date, we need to combine the strings into a single datetime value."
   ]
  },
  {
   "cell_type": "code",
   "execution_count": null,
   "metadata": {},
   "outputs": [],
   "source": [
    "dates = []\n",
    "for date in date_times:\n",
    "    # combine each separate column into a single string: YYYYMMDDHH\n",
    "    date_string = \"\".join(date)\n",
    "    # convert string to a datetime object\n",
    "    dates.append(datetime.datetime.strptime(date_string, \"%Y%m%d%H\"))\n",
    "dates = np.array(dates)\n",
    "print(f\"First Date = {dates[0]}\")\n",
    "print(f\"Last Date  = {dates[-1]}\")"
   ]
  },
  {
   "cell_type": "markdown",
   "metadata": {},
   "source": [
    "## Plot and View Data\n",
    "\n",
    "Let's give the data a look!"
   ]
  },
  {
   "cell_type": "code",
   "execution_count": null,
   "metadata": {},
   "outputs": [],
   "source": [
    "fig, ax = plt.subplots(figsize=(10, 10))\n",
    "plt.title(\"Wave Height on Station 44013\")\n",
    "plt.xlabel(\"Date\")\n",
    "plt.xticks(rotation=90)\n",
    "plt.ylabel(\"Wave Height (meters)\")\n",
    "plt.plot(dates, wave_height)\n",
    "plt.show()"
   ]
  },
  {
   "cell_type": "markdown",
   "metadata": {},
   "source": [
    "## Wavelet Input Values"
   ]
  },
  {
   "cell_type": "markdown",
   "metadata": {},
   "source": [
    "Wavelet inputs include:\n",
    "\n",
    "- x: Input time-series data (for example, the time and wave height of data)\n",
    "- wavelet: mother wavelet name\n",
    "- dt: sampling period (time between each y-value)\n",
    "- s0: smallest scale\n",
    "- dj: spacing between each discrete scales\n",
    "- jtot: largest scale"
   ]
  },
  {
   "cell_type": "code",
   "execution_count": null,
   "metadata": {},
   "outputs": [],
   "source": [
    "dt = 3600   # sampling period (time between each y-value) ->  seconds in an hour\n",
    "s0 = 0.25   # smallest scale\n",
    "dj = 0.25   # spacing between each discrete scales\n",
    "jtot = 64   # largest scale"
   ]
  },
  {
   "cell_type": "markdown",
   "metadata": {},
   "source": [
    "**For this example, we will be using a complex Morlet with a bandwidth of 1.5 and a center frequency of 1**"
   ]
  },
  {
   "cell_type": "code",
   "execution_count": null,
   "metadata": {},
   "outputs": [],
   "source": [
    "bandwidth = 1.5\n",
    "center_freq = 1\n",
    "wavelet_mother = f\"cmor{bandwidth}-{center_freq}\"\n",
    "print(wavelet_mother)"
   ]
  },
  {
   "cell_type": "markdown",
   "metadata": {},
   "source": [
    "## Applying Wavelets"
   ]
  },
  {
   "cell_type": "code",
   "execution_count": null,
   "metadata": {},
   "outputs": [],
   "source": [
    "scales = np.arange(1, jtot + 1, dj)\n",
    "wavelet_coeffs, freqs = pywt.cwt(\n",
    "    data=wave_height, scales=scales, wavelet=wavelet_mother, sampling_period=dt\n",
    ")"
   ]
  },
  {
   "cell_type": "markdown",
   "metadata": {},
   "source": [
    "## Power Spectrum\n",
    "The power spectrum is the real component of the wavelet coefficients. We can find this value by squaring the absolute value of the `wavelet_coeffs` to return the magnitude of the real component to make a better graph."
   ]
  },
  {
   "cell_type": "code",
   "execution_count": null,
   "metadata": {},
   "outputs": [],
   "source": [
    "power = np.power((abs(wavelet_coeffs)), 2)\n",
    "\n",
    "fig, ax = plt.subplots(figsize=(10, 10))\n",
    "\n",
    "# Plot Scalogram\n",
    "plt.imshow(\n",
    "    power, vmax=(power).max(), vmin=(power).min(), aspect=\"auto\"\n",
    ")\n",
    "\n",
    "# Plot X-Axis with Date Labels and Ticks Monthly\n",
    "num = 730 # hours in a month\n",
    "x_ticks = range(0, len(dates), num)\n",
    "x_ticklabels = []\n",
    "for date in dates[::num]:\n",
    "    x_ticklabels.append(str(date)[:-9])\n",
    "plt.xticks(ticks=x_ticks, labels=x_ticklabels,rotation=90)\n",
    "\n",
    "plt.title(\"Buoy Height at Station 44013\")\n",
    "plt.xlabel(\"Date (Hours)\")\n",
    "plt.ylabel(\"Scale\")\n",
    "plt.colorbar()\n",
    "plt.show()"
   ]
  },
  {
   "cell_type": "markdown",
   "metadata": {},
   "source": [
    "## What Went Wrong?\n",
    "\n",
    "The current wavelet has a lot of blank space. This is the result of the `nan` values. So, to get a complete wavelet, we should filter out the `nan` values before we apply a wavelet. We can do this by applying a mask and interpolating."
   ]
  },
  {
   "cell_type": "code",
   "execution_count": null,
   "metadata": {},
   "outputs": [],
   "source": [
    "wave_len = np.arange(len(wave_height))\n",
    "mask = np.isfinite(wave_height)\n",
    "xfiltered = np.interp(wave_len, wave_len[mask], wave_height[mask])"
   ]
  },
  {
   "cell_type": "markdown",
   "metadata": {},
   "source": [
    "Time to get our `wavelet_coeffs` from the newly filtered data"
   ]
  },
  {
   "cell_type": "code",
   "execution_count": null,
   "metadata": {},
   "outputs": [],
   "source": [
    "scales = np.arange(1, jtot + 1, dj)\n",
    "wavelet_coeffs, freqs = pywt.cwt(\n",
    "    data=xfiltered, scales=scales, wavelet=wavelet_mother, sampling_period=dt\n",
    ")"
   ]
  },
  {
   "cell_type": "markdown",
   "metadata": {},
   "source": [
    "## Power Spectrum, Take Two"
   ]
  },
  {
   "cell_type": "code",
   "execution_count": null,
   "metadata": {},
   "outputs": [],
   "source": [
    "power = np.power((abs(wavelet_coeffs)), 2)\n",
    "\n",
    "fig, ax = plt.subplots(figsize=(10, 10))\n",
    "\n",
    "# Plot Scalogram\n",
    "plt.imshow(\n",
    "    power, vmax=(power).max(), vmin=(power).min(), aspect=\"auto\"\n",
    ")\n",
    "\n",
    "# Plot X-Axis with Date Labels and Ticks Monthly\n",
    "num = 730 # hours in a month\n",
    "x_ticks = range(0, len(dates), num)\n",
    "x_ticklabels = []\n",
    "for date in dates[::num]:\n",
    "    x_ticklabels.append(str(date)[:-9])\n",
    "plt.xticks(ticks=x_ticks, labels=x_ticklabels,rotation=90)\n",
    "\n",
    "plt.title(\"Buoy Height at Station 44013\")\n",
    "plt.xlabel(\"Date (Hours)\")\n",
    "plt.ylabel(\"Scale\")\n",
    "plt.colorbar()\n",
    "plt.show()"
   ]
  },
  {
   "cell_type": "markdown",
   "metadata": {},
   "source": [
    "- X axis describes when wind is present and causing waves\n",
    "- Y axis describes the range of sine and cosine waves needed to make the signal that is present. There is a large range when the waves are detected"
   ]
  },
  {
   "cell_type": "markdown",
   "metadata": {},
   "source": [
    "## Conclusions\n",
    "\n",
    "The power spectrum above demonstrates a strong peak (in yellow) within the first month of the year."
   ]
  },
  {
   "cell_type": "markdown",
   "metadata": {},
   "source": [
    "---"
   ]
  },
  {
   "cell_type": "markdown",
   "metadata": {},
   "source": [
    "## Summary\n",
    "TODO\n",
    "\n",
    "### What's next?\n",
    "\n",
    "- [Learn how more about PyWavelets](https://pywavelets.readthedocs.io/en/latest/regression/index.html)\n"
   ]
  },
  {
   "cell_type": "markdown",
   "metadata": {},
   "source": [
    "## Resources and references\n",
    "\n",
    "- [NOAA National Data Buoy Center](https://www.ndbc.noaa.gov/)"
   ]
  }
 ],
 "metadata": {
  "kernelspec": {
   "display_name": "Python 3 (ipykernel)",
   "language": "python",
   "name": "python3"
  },
  "language_info": {
   "codemirror_mode": {
    "name": "ipython",
    "version": 3
   },
   "file_extension": ".py",
   "mimetype": "text/x-python",
   "name": "python",
   "nbconvert_exporter": "python",
   "pygments_lexer": "ipython3",
   "version": "3.13.2"
  },
  "nbdime-conflicts": {
   "local_diff": [
    {
     "diff": [
      {
       "diff": [
        {
         "key": 0,
         "op": "addrange",
         "valuelist": [
          "Python 3"
         ]
        },
        {
         "key": 0,
         "length": 1,
         "op": "removerange"
        }
       ],
       "key": "display_name",
       "op": "patch"
      }
     ],
     "key": "kernelspec",
     "op": "patch"
    }
   ],
   "remote_diff": [
    {
     "diff": [
      {
       "diff": [
        {
         "key": 0,
         "op": "addrange",
         "valuelist": [
          "Python3"
         ]
        },
        {
         "key": 0,
         "length": 1,
         "op": "removerange"
        }
       ],
       "key": "display_name",
       "op": "patch"
      }
     ],
     "key": "kernelspec",
     "op": "patch"
    }
   ]
  },
  "toc-autonumbering": false
 },
 "nbformat": 4,
 "nbformat_minor": 4
}
